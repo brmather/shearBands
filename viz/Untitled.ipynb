{
 "cells": [
  {
   "cell_type": "code",
   "execution_count": 1,
   "metadata": {
    "collapsed": false
   },
   "outputs": [
    {
     "name": "stdout",
     "output_type": "stream",
     "text": [
      "Populating the interactive namespace from numpy and matplotlib\n"
     ]
    }
   ],
   "source": [
    "import natsort\n",
    "import glob\n",
    "import numpy as np\n",
    "import pandas as pd\n",
    "%pylab inline"
   ]
  },
  {
   "cell_type": "code",
   "execution_count": 2,
   "metadata": {
    "collapsed": false
   },
   "outputs": [],
   "source": [
    "#glob.glob('underworld2/results/A/**/metrics.csv'), glob.glob('underworld2/results/A/**/solver.csv')\n",
    "#glob.glob('underworld2/results/C/**/*.csv')"
   ]
  },
  {
   "cell_type": "code",
   "execution_count": 3,
   "metadata": {
    "collapsed": true
   },
   "outputs": [],
   "source": [
    "mHeaders = ['rmsint', 'shearArea' ,'shearPressure', 'backgroundArea', 'backgroundPressure', \n",
    "            'viscmin', 'viscmax', 'eiimin', 'eiimax', 'angle', 'vdint', 'shearVd', 'backgroundVd', 'pressmin', 'pressmax' ]\n",
    "\n",
    "pHeaders = ['U0','a','asthenosphere','cohesion','depth','eta1','eta2','etaMin','fa','g','notchWidth','rho']"
   ]
  },
  {
   "cell_type": "code",
   "execution_count": 4,
   "metadata": {
    "collapsed": false
   },
   "outputs": [],
   "source": [
    "dataA = []\n",
    "paramsA = []\n",
    "\n",
    "metrics = natsort.natsorted(glob.glob('underworld2/results/A/**/metrics.csv'))\n",
    "params = natsort.natsorted(glob.glob('underworld2/results/A/**/params.csv'))\n",
    "\n",
    "\n",
    "\n",
    "for i in range(len(metrics)):\n",
    "    d = pd.read_csv(metrics[i], header=None)\n",
    "    d.columns = mHeaders\n",
    "    p = pd.read_csv(params[i], header=None, skip_footer=1)\n",
    "    p.columns = pHeaders \n",
    "    dataA.append(d)\n",
    "    paramsA.append(p)"
   ]
  },
  {
   "cell_type": "code",
   "execution_count": 5,
   "metadata": {
    "collapsed": false
   },
   "outputs": [],
   "source": [
    "dataB = []\n",
    "paramsB = []\n",
    "\n",
    "metrics = natsort.natsorted(glob.glob('underworld2/results/B/**/metrics.csv'))\n",
    "params = natsort.natsorted(glob.glob('underworld2/results/B/**/params.csv'))\n",
    "\n",
    "\n",
    "\n",
    "for i in range(len(metrics)):\n",
    "    d = pd.read_csv(metrics[i], header=None)\n",
    "    d.columns = mHeaders\n",
    "    p = pd.read_csv(params[i], header=None, skip_footer=1)\n",
    "    p.columns = pHeaders \n",
    "    dataB.append(d)\n",
    "    paramsB.append(p)"
   ]
  },
  {
   "cell_type": "code",
   "execution_count": 6,
   "metadata": {
    "collapsed": false
   },
   "outputs": [],
   "source": [
    "dataC = []\n",
    "paramsC = []\n",
    "\n",
    "metrics = natsort.natsorted(glob.glob('underworld2/results/C/**/metrics.csv'))\n",
    "params = natsort.natsorted(glob.glob('underworld2/results/C/**/params.csv'))\n",
    "\n",
    "\n",
    "\n",
    "for i in range(len(metrics)):\n",
    "    d = pd.read_csv(metrics[i], header=None)\n",
    "    d.columns = mHeaders\n",
    "    p = pd.read_csv(params[i], header=None, skip_footer=1)\n",
    "    p.columns = pHeaders \n",
    "    dataC.append(d)\n",
    "    paramsC.append(p)\n",
    "    \n",
    "    \n",
    "dataD = []\n",
    "paramsD = []\n",
    "\n",
    "metrics = natsort.natsorted(glob.glob('underworld2/results/D/**/metrics.csv'))\n",
    "params = natsort.natsorted(glob.glob('underworld2/results/D/**/params.csv'))\n",
    "\n",
    "\n",
    "\n",
    "for i in range(len(metrics)):\n",
    "    d = pd.read_csv(metrics[i], header=None)\n",
    "    d.columns = mHeaders\n",
    "    p = pd.read_csv(params[i], header=None, skip_footer=1)\n",
    "    p.columns = pHeaders \n",
    "    dataD.append(d)\n",
    "    paramsD.append(p)"
   ]
  },
  {
   "cell_type": "code",
   "execution_count": 7,
   "metadata": {
    "collapsed": false
   },
   "outputs": [],
   "source": [
    "#mHeaders = ['rmsint', 'shearArea' ,'shearPressure', 'backgroundArea', 'backgroundPressure', \n",
    "#            'viscmin', 'viscmax', 'eiimin', 'eiimax', 'angle', 'vdint', 'shearVd', 'backgroundVd', 'pressmin', 'pressmax' ]\n",
    "\n",
    "#pHeaders = ['a', 'eta0', 'eta1', 'eta2','asthenosphere','U0','cohesion', 'fa', 'etaMin', 'g', 'LS', 'rho','notchWidth']\n",
    "\n",
    "\n",
    "dataG = []\n",
    "paramsG = []\n",
    "\n",
    "metrics = natsort.natsorted(glob.glob('underworld2/results/G/**/metrics.csv'))\n",
    "params = natsort.natsorted(glob.glob('underworld2/results/G/**/params.csv'))\n",
    "\n",
    "\n",
    "\n",
    "for i in range(len(metrics)):\n",
    "    d = pd.read_csv(metrics[i], header=None)\n",
    "    d.columns = mHeaders\n",
    "    p = pd.read_csv(params[i], header=None, skip_footer=1)\n",
    "    #p = p.ix[0]\n",
    "    p.columns = pHeaders \n",
    "    dataG.append(d)\n",
    "    paramsG.append(p)"
   ]
  },
  {
   "cell_type": "code",
   "execution_count": 8,
   "metadata": {
    "collapsed": false
   },
   "outputs": [],
   "source": [
    "\n",
    "#these changed for this model\n",
    "pHeaders = ['U0', 'a', 'asthenosphere','cohesion','depth','eta1','eta2','etaMin','fa','g','lam','notchWidth','rho']\n",
    "\n",
    "dataH = []\n",
    "paramsH = []\n",
    "\n",
    "metrics = natsort.natsorted(glob.glob('underworld2/results/H/**/metrics.csv'))\n",
    "params = natsort.natsorted(glob.glob('underworld2/results/H/**/params.csv'))\n",
    "\n",
    "\n",
    "\n",
    "for i in range(len(metrics)):\n",
    "    d = pd.read_csv(metrics[i], header=None)\n",
    "    d.columns = mHeaders\n",
    "    p = pd.read_csv(params[i], header=None, skip_footer=1)\n",
    "    #p = p.ix[0]\n",
    "    p.columns = pHeaders \n",
    "    dataH.append(d)\n",
    "    paramsH.append(p)"
   ]
  },
  {
   "cell_type": "code",
   "execution_count": 11,
   "metadata": {
    "collapsed": false
   },
   "outputs": [
    {
     "name": "stdout",
     "output_type": "stream",
     "text": [
      "[]\n"
     ]
    }
   ],
   "source": [
    "col = 'U0'\n",
    "uniqs = np.unique([float(i[col][0]) for i in paramsA])\n",
    "print(uniqs)\n",
    "\n",
    "#colorMap = {}\n",
    "#colorMap[uniqs[0]] = 'r'\n",
    "#colorMap[uniqs[1]] = 'b'\n",
    "#colorMap[uniqs[2]] = 'g'"
   ]
  },
  {
   "cell_type": "code",
   "execution_count": 12,
   "metadata": {
    "collapsed": false
   },
   "outputs": [
    {
     "ename": "IndexError",
     "evalue": "list index out of range",
     "output_type": "error",
     "traceback": [
      "\u001b[1;31m\u001b[0m",
      "\u001b[1;31mIndexError\u001b[0mTraceback (most recent call last)",
      "\u001b[1;32m<ipython-input-12-8b9393d0466f>\u001b[0m in \u001b[0;36m<module>\u001b[1;34m()\u001b[0m\n\u001b[0;32m      4\u001b[0m \u001b[1;33m\u001b[0m\u001b[0m\n\u001b[0;32m      5\u001b[0m \u001b[1;33m\u001b[0m\u001b[0m\n\u001b[1;32m----> 6\u001b[1;33m \u001b[0max\u001b[0m\u001b[1;33m.\u001b[0m\u001b[0mscatter\u001b[0m\u001b[1;33m(\u001b[0m\u001b[0mparamsA\u001b[0m\u001b[1;33m[\u001b[0m\u001b[1;36m0\u001b[0m\u001b[1;33m]\u001b[0m\u001b[1;33m[\u001b[0m\u001b[1;34m'fa'\u001b[0m\u001b[1;33m]\u001b[0m\u001b[1;33m[\u001b[0m\u001b[1;36m0\u001b[0m\u001b[1;33m]\u001b[0m\u001b[1;33m,\u001b[0m \u001b[1;33m-\u001b[0m\u001b[1;36m1.\u001b[0m\u001b[1;33m*\u001b[0m\u001b[0mdataA\u001b[0m\u001b[1;33m[\u001b[0m\u001b[1;36m0\u001b[0m\u001b[1;33m]\u001b[0m\u001b[1;33m[\u001b[0m\u001b[1;34m'angle'\u001b[0m\u001b[1;33m]\u001b[0m\u001b[1;33m,\u001b[0m \u001b[0mc\u001b[0m\u001b[1;33m=\u001b[0m\u001b[0mcolorMap\u001b[0m\u001b[1;33m[\u001b[0m\u001b[0mparamsA\u001b[0m\u001b[1;33m[\u001b[0m\u001b[1;36m0\u001b[0m\u001b[1;33m]\u001b[0m\u001b[1;33m[\u001b[0m\u001b[0mcol\u001b[0m\u001b[1;33m]\u001b[0m\u001b[1;33m[\u001b[0m\u001b[1;36m0\u001b[0m\u001b[1;33m]\u001b[0m\u001b[1;33m]\u001b[0m\u001b[1;33m,\u001b[0m \u001b[0mlabel\u001b[0m\u001b[1;33m=\u001b[0m\u001b[1;34m'0.0025 cm/y - \\n angle @ $2 \\sigma$'\u001b[0m\u001b[1;33m)\u001b[0m\u001b[1;33m\u001b[0m\u001b[0m\n\u001b[0m\u001b[0;32m      7\u001b[0m \u001b[0max\u001b[0m\u001b[1;33m.\u001b[0m\u001b[0mscatter\u001b[0m\u001b[1;33m(\u001b[0m\u001b[0mparamsA\u001b[0m\u001b[1;33m[\u001b[0m\u001b[1;36m0\u001b[0m\u001b[1;33m]\u001b[0m\u001b[1;33m[\u001b[0m\u001b[1;34m'fa'\u001b[0m\u001b[1;33m]\u001b[0m\u001b[1;33m[\u001b[0m\u001b[1;36m0\u001b[0m\u001b[1;33m]\u001b[0m\u001b[1;33m,\u001b[0m \u001b[1;33m-\u001b[0m\u001b[1;36m1.\u001b[0m\u001b[1;33m*\u001b[0m\u001b[0mdataA\u001b[0m\u001b[1;33m[\u001b[0m\u001b[1;36m1\u001b[0m\u001b[1;33m]\u001b[0m\u001b[1;33m[\u001b[0m\u001b[1;34m'angle'\u001b[0m\u001b[1;33m]\u001b[0m\u001b[1;33m,\u001b[0m \u001b[0mc\u001b[0m\u001b[1;33m=\u001b[0m\u001b[0mcolorMap\u001b[0m\u001b[1;33m[\u001b[0m\u001b[0mparamsA\u001b[0m\u001b[1;33m[\u001b[0m\u001b[1;36m1\u001b[0m\u001b[1;33m]\u001b[0m\u001b[1;33m[\u001b[0m\u001b[0mcol\u001b[0m\u001b[1;33m]\u001b[0m\u001b[1;33m[\u001b[0m\u001b[1;36m0\u001b[0m\u001b[1;33m]\u001b[0m\u001b[1;33m]\u001b[0m\u001b[1;33m,\u001b[0m \u001b[0mlabel\u001b[0m\u001b[1;33m=\u001b[0m\u001b[1;34m'0.01 cm/y -  \\n angle @ $2 \\sigma$'\u001b[0m\u001b[1;33m)\u001b[0m\u001b[1;33m\u001b[0m\u001b[0m\n\u001b[0;32m      8\u001b[0m \u001b[1;33m\u001b[0m\u001b[0m\n",
      "\u001b[1;31mIndexError\u001b[0m: list index out of range"
     ]
    },
    {
     "data": {
      "image/png": "[encoded data removed]",
      "text/plain": [
       "<matplotlib.figure.Figure at 0x7f794d7bf750>"
      ]
     },
     "metadata": {},
     "output_type": "display_data"
    }
   ],
   "source": [
    "import seaborn as sns\n",
    "fig, ax = plt.subplots()\n",
    "\n",
    "\n",
    "\n",
    "ax.scatter(paramsA[0]['fa'][0], -1.*dataA[0]['angle'], c=colorMap[paramsA[0][col][0]], label='0.0025 cm/y - \\n angle @ $2 \\sigma$')\n",
    "ax.scatter(paramsA[0]['fa'][0], -1.*dataA[1]['angle'], c=colorMap[paramsA[1][col][0]], label='0.01 cm/y -  \\n angle @ $2 \\sigma$')\n",
    "\n",
    "ax.scatter(paramsA[0]['fa'][0], -1.*dataB[0]['angle'], c=colorMap[paramsB[0][col][0]], marker='s', label='0.0025 cm/y - \\n angle @ $1 \\sigma$')\n",
    "ax.scatter(paramsA[0]['fa'][0], -1.*dataB[1]['angle'], c=colorMap[paramsB[1][col][0]], marker='s', label='0.01 cm/y -  \\n angle @ $1 \\sigma$')\n",
    "\n",
    "ax.plot(np.array([0., 50.]), np.array([45., 45.]), c='k', lw=0.5,ls = '--', label='Roscoe')\n",
    "ax.plot(np.array([0., 50.]), np.array([45., 25.]), c='k', lw=0.5,  label='Coulomb')\n",
    "ax.plot(np.array([0., 50.]), np.array([45., 35.]), c='k', lw=0.5, ls = '-.',label='Arthur')\n",
    "\n",
    "ax.legend(loc=3, ncol=3,prop={'size':6})\n",
    "\n",
    "for i in range(1,len(dataB)):\n",
    "    ax.scatter(paramsA[i]['fa'][0], -1.*dataA[i]['angle'],c=colorMap[paramsA[i][col][0]])\n",
    "    ax.scatter(paramsB[i]['fa'][0], -1.*dataB[i]['angle'], c=colorMap[paramsB[i][col][0]], marker='s')\n",
    "\n",
    "    #ax.plot(-1.*dataA[i]['angle'], c='r')\n",
    "    #print(-1.*dataA[i]['angle'])\n",
    "    #print(paramsA[i]['fa'])\n",
    "\n",
    "#ax.scatter(paramsA[i]['fa'][0], -1.*dataA[i]['angle'], c='r',  label = 'Speigelman iso.')  \n",
    "\n",
    "\n",
    "\n",
    "ax.set_ylim((25, 48))\n",
    "ax.set_xlim((-1,45))\n",
    "#ax.legend(loc=3, prop={'size':6})\n",
    "\n",
    "ax.set_xlabel('friction angle ($\\phi$)')\n",
    "ax.set_ylabel('measured shear band angle')\n",
    "\n",
    "ax.set_aspect('equal')\n",
    "\n",
    "\n",
    "#fig.savefig('angles.png')"
   ]
  },
  {
   "cell_type": "code",
   "execution_count": 13,
   "metadata": {
    "collapsed": false
   },
   "outputs": [
    {
     "ename": "IndexError",
     "evalue": "list index out of range",
     "output_type": "error",
     "traceback": [
      "\u001b[1;31m\u001b[0m",
      "\u001b[1;31mIndexError\u001b[0mTraceback (most recent call last)",
      "\u001b[1;32m<ipython-input-13-90510e4adf23>\u001b[0m in \u001b[0;36m<module>\u001b[1;34m()\u001b[0m\n\u001b[0;32m      1\u001b[0m \u001b[0mfig\u001b[0m\u001b[1;33m,\u001b[0m \u001b[0max\u001b[0m \u001b[1;33m=\u001b[0m \u001b[0mplt\u001b[0m\u001b[1;33m.\u001b[0m\u001b[0msubplots\u001b[0m\u001b[1;33m(\u001b[0m\u001b[1;33m)\u001b[0m\u001b[1;33m\u001b[0m\u001b[0m\n\u001b[0;32m      2\u001b[0m \u001b[1;33m\u001b[0m\u001b[0m\n\u001b[1;32m----> 3\u001b[1;33m \u001b[0max\u001b[0m\u001b[1;33m.\u001b[0m\u001b[0mscatter\u001b[0m\u001b[1;33m(\u001b[0m\u001b[0mparamsA\u001b[0m\u001b[1;33m[\u001b[0m\u001b[1;36m0\u001b[0m\u001b[1;33m]\u001b[0m\u001b[1;33m[\u001b[0m\u001b[1;34m'fa'\u001b[0m\u001b[1;33m]\u001b[0m\u001b[1;33m[\u001b[0m\u001b[1;36m0\u001b[0m\u001b[1;33m]\u001b[0m\u001b[1;33m,\u001b[0m \u001b[0mdataA\u001b[0m\u001b[1;33m[\u001b[0m\u001b[0mi\u001b[0m\u001b[1;33m]\u001b[0m\u001b[1;33m[\u001b[0m\u001b[1;34m'pressmax'\u001b[0m\u001b[1;33m]\u001b[0m \u001b[1;33m-\u001b[0m \u001b[0mdataA\u001b[0m\u001b[1;33m[\u001b[0m\u001b[0mi\u001b[0m\u001b[1;33m]\u001b[0m\u001b[1;33m[\u001b[0m\u001b[1;34m'pressmin'\u001b[0m\u001b[1;33m]\u001b[0m\u001b[1;33m,\u001b[0m \u001b[0mc\u001b[0m\u001b[1;33m=\u001b[0m\u001b[1;34m'r'\u001b[0m\u001b[1;33m,\u001b[0m \u001b[0mlabel\u001b[0m\u001b[1;33m=\u001b[0m\u001b[1;34m'isotropic plasticity'\u001b[0m\u001b[1;33m)\u001b[0m\u001b[1;33m\u001b[0m\u001b[0m\n\u001b[0m\u001b[0;32m      4\u001b[0m \u001b[1;31m#ax.scatter(paramsB[0]['fa'][0], dataB[i]['pressmax']- dataB[i]['pressmin'], c='b', label='transversely isotropic')\u001b[0m\u001b[1;33m\u001b[0m\u001b[1;33m\u001b[0m\u001b[0m\n\u001b[0;32m      5\u001b[0m \u001b[0max\u001b[0m\u001b[1;33m.\u001b[0m\u001b[0mlegend\u001b[0m\u001b[1;33m(\u001b[0m\u001b[0mloc\u001b[0m\u001b[1;33m=\u001b[0m\u001b[1;36m3\u001b[0m\u001b[1;33m,\u001b[0m \u001b[0mprop\u001b[0m\u001b[1;33m=\u001b[0m\u001b[1;33m{\u001b[0m\u001b[1;34m'size'\u001b[0m\u001b[1;33m:\u001b[0m\u001b[1;36m8\u001b[0m\u001b[1;33m}\u001b[0m\u001b[1;33m)\u001b[0m\u001b[1;33m\u001b[0m\u001b[0m\n",
      "\u001b[1;31mIndexError\u001b[0m: list index out of range"
     ]
    },
    {
     "data": {
      "image/png": "[encoded data removed]",
      "text/plain": [
       "<matplotlib.figure.Figure at 0x7f7945f3ed90>"
      ]
     },
     "metadata": {},
     "output_type": "display_data"
    }
   ],
   "source": [
    "fig, ax = plt.subplots()\n",
    "\n",
    "ax.scatter(paramsA[0]['fa'][0], dataA[i]['pressmax'] - dataA[i]['pressmin'], c='r', label='isotropic plasticity')\n",
    "#ax.scatter(paramsB[0]['fa'][0], dataB[i]['pressmax']- dataB[i]['pressmin'], c='b', label='transversely isotropic')\n",
    "ax.legend(loc=3, prop={'size':8})\n",
    "\n",
    "for i in range(1,len(dataA)):\n",
    "    ax.scatter(paramsA[i]['fa'][0], dataA[i]['pressmax'] - dataA[i]['pressmin'], c='r')\n",
    "    #ax.scatter(paramsA[i]['fa'][0], dataA[i]['shearPressure'], c='b')\n",
    "    #ax.scatter(paramsB[i]['fa'][0], dataB[i]['pressmax']- dataB[i]['pressmin'] , c='b')\n",
    "ax.set_xlabel('friction angle $\\phi$')\n",
    "ax.set_ylabel(\"$\\Delta p'$\")\n",
    "\n",
    "#fig.savefig('pressures.png')"
   ]
  },
  {
   "cell_type": "code",
   "execution_count": 14,
   "metadata": {
    "collapsed": false
   },
   "outputs": [
    {
     "ename": "IndexError",
     "evalue": "list index out of range",
     "output_type": "error",
     "traceback": [
      "\u001b[1;31m\u001b[0m",
      "\u001b[1;31mIndexError\u001b[0mTraceback (most recent call last)",
      "\u001b[1;32m<ipython-input-14-ed98fa2e6435>\u001b[0m in \u001b[0;36m<module>\u001b[1;34m()\u001b[0m\n\u001b[0;32m      1\u001b[0m \u001b[0mfig\u001b[0m\u001b[1;33m,\u001b[0m \u001b[0max\u001b[0m \u001b[1;33m=\u001b[0m \u001b[0mplt\u001b[0m\u001b[1;33m.\u001b[0m\u001b[0msubplots\u001b[0m\u001b[1;33m(\u001b[0m\u001b[1;33m)\u001b[0m\u001b[1;33m\u001b[0m\u001b[0m\n\u001b[0;32m      2\u001b[0m \u001b[1;33m\u001b[0m\u001b[0m\n\u001b[1;32m----> 3\u001b[1;33m \u001b[0max\u001b[0m\u001b[1;33m.\u001b[0m\u001b[0mscatter\u001b[0m\u001b[1;33m(\u001b[0m\u001b[0mparamsA\u001b[0m\u001b[1;33m[\u001b[0m\u001b[1;36m0\u001b[0m\u001b[1;33m]\u001b[0m\u001b[1;33m[\u001b[0m\u001b[1;34m'fa'\u001b[0m\u001b[1;33m]\u001b[0m\u001b[1;33m[\u001b[0m\u001b[1;36m0\u001b[0m\u001b[1;33m]\u001b[0m\u001b[1;33m,\u001b[0m \u001b[0mdataA\u001b[0m\u001b[1;33m[\u001b[0m\u001b[0mi\u001b[0m\u001b[1;33m]\u001b[0m\u001b[1;33m[\u001b[0m\u001b[1;34m'viscmin'\u001b[0m\u001b[1;33m]\u001b[0m\u001b[1;33m,\u001b[0m \u001b[0mc\u001b[0m\u001b[1;33m=\u001b[0m\u001b[1;34m'r'\u001b[0m\u001b[1;33m,\u001b[0m \u001b[0mlabel\u001b[0m\u001b[1;33m=\u001b[0m\u001b[1;34m'iso.'\u001b[0m\u001b[1;33m)\u001b[0m\u001b[1;33m\u001b[0m\u001b[0m\n\u001b[0m\u001b[0;32m      4\u001b[0m \u001b[1;31m#ax.scatter(paramsB[0]['fa'][0], dataB[i]['viscmin'], c='b', label='ti')\u001b[0m\u001b[1;33m\u001b[0m\u001b[1;33m\u001b[0m\u001b[0m\n\u001b[0;32m      5\u001b[0m \u001b[0max\u001b[0m\u001b[1;33m.\u001b[0m\u001b[0mlegend\u001b[0m\u001b[1;33m(\u001b[0m\u001b[0mloc\u001b[0m\u001b[1;33m=\u001b[0m\u001b[1;36m3\u001b[0m\u001b[1;33m,\u001b[0m \u001b[0mprop\u001b[0m\u001b[1;33m=\u001b[0m\u001b[1;33m{\u001b[0m\u001b[1;34m'size'\u001b[0m\u001b[1;33m:\u001b[0m\u001b[1;36m8\u001b[0m\u001b[1;33m}\u001b[0m\u001b[1;33m)\u001b[0m\u001b[1;33m\u001b[0m\u001b[0m\n",
      "\u001b[1;31mIndexError\u001b[0m: list index out of range"
     ]
    },
    {
     "data": {
      "image/png": "[encoded data removed]",
      "text/plain": [
       "<matplotlib.figure.Figure at 0x7f7945dc9450>"
      ]
     },
     "metadata": {},
     "output_type": "display_data"
    }
   ],
   "source": [
    "fig, ax = plt.subplots()\n",
    "\n",
    "ax.scatter(paramsA[0]['fa'][0], dataA[i]['viscmin'], c='r', label='iso.')\n",
    "#ax.scatter(paramsB[0]['fa'][0], dataB[i]['viscmin'], c='b', label='ti')\n",
    "ax.legend(loc=3, prop={'size':8})\n",
    "\n",
    "for i in range(1,len(dataB)):\n",
    "    ax.scatter(paramsA[i]['fa'][0], dataA[i]['viscmin'], c='r')\n",
    "    #ax.scatter(paramsB[i]['fa'][0], dataB[i]['viscmin'] , c='b')\n",
    "ax.set_xlabel('friction angle $\\phi$')\n",
    "ax.set_ylabel(\"$\\Delta p'$\")\n",
    "\n",
    "#fig.savefig('pressures.png')"
   ]
  },
  {
   "cell_type": "code",
   "execution_count": 15,
   "metadata": {
    "collapsed": false
   },
   "outputs": [
    {
     "ename": "NameError",
     "evalue": "name 'df' is not defined",
     "output_type": "error",
     "traceback": [
      "\u001b[1;31m\u001b[0m",
      "\u001b[1;31mNameError\u001b[0mTraceback (most recent call last)",
      "\u001b[1;32m<ipython-input-15-a6565a29f272>\u001b[0m in \u001b[0;36m<module>\u001b[1;34m()\u001b[0m\n\u001b[0;32m      1\u001b[0m \u001b[1;31m#pd.options.display.float_format = '${:,.2f}'.format\u001b[0m\u001b[1;33m\u001b[0m\u001b[1;33m\u001b[0m\u001b[0m\n\u001b[0;32m      2\u001b[0m \u001b[1;31m#df.ix[0][['U0', 'eta1', 'asthenosphere']].to_latex('test_table.txt', float_format=lambda x: '%.2E' % x)\u001b[0m\u001b[1;33m\u001b[0m\u001b[1;33m\u001b[0m\u001b[0m\n\u001b[1;32m----> 3\u001b[1;33m \u001b[0mtest\u001b[0m \u001b[1;33m=\u001b[0m \u001b[0mdf\u001b[0m\u001b[1;33m.\u001b[0m\u001b[0mix\u001b[0m\u001b[1;33m[\u001b[0m\u001b[1;36m0\u001b[0m\u001b[1;33m]\u001b[0m\u001b[1;33m[\u001b[0m\u001b[1;33m[\u001b[0m\u001b[1;34m'U0'\u001b[0m\u001b[1;33m,\u001b[0m \u001b[1;34m'eta1'\u001b[0m\u001b[1;33m,\u001b[0m \u001b[1;34m'asthenosphere'\u001b[0m\u001b[1;33m]\u001b[0m\u001b[1;33m]\u001b[0m\u001b[1;33m\u001b[0m\u001b[0m\n\u001b[0m\u001b[0;32m      4\u001b[0m \u001b[0mtest\u001b[0m\u001b[1;33m.\u001b[0m\u001b[0mindex\u001b[0m \u001b[1;33m=\u001b[0m \u001b[0mrange\u001b[0m\u001b[1;33m(\u001b[0m\u001b[1;36m1\u001b[0m\u001b[1;33m,\u001b[0m \u001b[0mlen\u001b[0m\u001b[1;33m(\u001b[0m\u001b[0mtest\u001b[0m\u001b[1;33m.\u001b[0m\u001b[0mindex\u001b[0m \u001b[1;33m)\u001b[0m \u001b[1;33m+\u001b[0m \u001b[1;36m1\u001b[0m\u001b[1;33m)\u001b[0m\u001b[1;33m\u001b[0m\u001b[0m\n\u001b[0;32m      5\u001b[0m \u001b[0mtest\u001b[0m\u001b[1;33m.\u001b[0m\u001b[0mcolumns\u001b[0m \u001b[1;33m=\u001b[0m \u001b[1;33m[\u001b[0m \u001b[1;34m'vel. bc (m/s)'\u001b[0m\u001b[1;33m,\u001b[0m \u001b[1;34m'crust visc. (Pa.s)'\u001b[0m\u001b[1;33m,\u001b[0m\u001b[1;34m'viscous layer. (m)'\u001b[0m\u001b[1;33m]\u001b[0m\u001b[1;33m\u001b[0m\u001b[0m\n",
      "\u001b[1;31mNameError\u001b[0m: name 'df' is not defined"
     ]
    }
   ],
   "source": [
    "#pd.options.display.float_format = '${:,.2f}'.format\n",
    "#df.ix[0][['U0', 'eta1', 'asthenosphere']].to_latex('test_table.txt', float_format=lambda x: '%.2E' % x)\n",
    "test = df.ix[0][['U0', 'eta1', 'asthenosphere']]\n",
    "test.index = range(1, len(test.index ) + 1)\n",
    "test.columns = [ 'vel. bc (m/s)', 'crust visc. (Pa.s)','viscous layer. (m)']\n",
    "test.index \n",
    "test.to_latex('test_table.txt', float_format=lambda x: '%.2E' % x)"
   ]
  },
  {
   "cell_type": "code",
   "execution_count": 16,
   "metadata": {
    "collapsed": false
   },
   "outputs": [
    {
     "ename": "NameError",
     "evalue": "name 'df' is not defined",
     "output_type": "error",
     "traceback": [
      "\u001b[1;31m\u001b[0m",
      "\u001b[1;31mNameError\u001b[0mTraceback (most recent call last)",
      "\u001b[1;32m<ipython-input-16-3038dfe5c966>\u001b[0m in \u001b[0;36m<module>\u001b[1;34m()\u001b[0m\n\u001b[1;32m----> 1\u001b[1;33m \u001b[0mdf\u001b[0m\u001b[1;33m.\u001b[0m\u001b[0mix\u001b[0m\u001b[1;33m[\u001b[0m\u001b[1;36m0\u001b[0m\u001b[1;33m]\u001b[0m\u001b[1;33m[\u001b[0m\u001b[1;33m[\u001b[0m\u001b[1;34m'U0'\u001b[0m\u001b[1;33m,\u001b[0m \u001b[1;34m'eta1'\u001b[0m\u001b[1;33m,\u001b[0m \u001b[1;34m'asthenosphere'\u001b[0m\u001b[1;33m]\u001b[0m\u001b[1;33m]\u001b[0m\u001b[1;33m.\u001b[0m\u001b[0mto_latex\u001b[0m\u001b[1;33m\u001b[0m\u001b[0m\n\u001b[0m",
      "\u001b[1;31mNameError\u001b[0m: name 'df' is not defined"
     ]
    }
   ],
   "source": [
    "df.ix[0][['U0', 'eta1', 'asthenosphere']].to_latex"
   ]
  },
  {
   "cell_type": "code",
   "execution_count": 17,
   "metadata": {
    "collapsed": false
   },
   "outputs": [
    {
     "ename": "IndexError",
     "evalue": "list index out of range",
     "output_type": "error",
     "traceback": [
      "\u001b[1;31m\u001b[0m",
      "\u001b[1;31mIndexError\u001b[0mTraceback (most recent call last)",
      "\u001b[1;32m<ipython-input-17-9ba8e7ee7f04>\u001b[0m in \u001b[0;36m<module>\u001b[1;34m()\u001b[0m\n\u001b[0;32m      1\u001b[0m \u001b[0mfig\u001b[0m\u001b[1;33m,\u001b[0m \u001b[0max\u001b[0m \u001b[1;33m=\u001b[0m \u001b[0mplt\u001b[0m\u001b[1;33m.\u001b[0m\u001b[0msubplots\u001b[0m\u001b[1;33m(\u001b[0m\u001b[1;33m)\u001b[0m\u001b[1;33m\u001b[0m\u001b[0m\n\u001b[0;32m      2\u001b[0m \u001b[1;33m\u001b[0m\u001b[0m\n\u001b[1;32m----> 3\u001b[1;33m \u001b[0max\u001b[0m\u001b[1;33m.\u001b[0m\u001b[0mscatter\u001b[0m\u001b[1;33m(\u001b[0m\u001b[0mparamsC\u001b[0m\u001b[1;33m[\u001b[0m\u001b[1;36m0\u001b[0m\u001b[1;33m]\u001b[0m\u001b[1;33m[\u001b[0m\u001b[1;34m'a'\u001b[0m\u001b[1;33m]\u001b[0m\u001b[1;33m[\u001b[0m\u001b[1;36m0\u001b[0m\u001b[1;33m]\u001b[0m\u001b[1;33m,\u001b[0m \u001b[1;33m-\u001b[0m\u001b[1;36m1.\u001b[0m\u001b[1;33m*\u001b[0m\u001b[0mdataC\u001b[0m\u001b[1;33m[\u001b[0m\u001b[1;36m0\u001b[0m\u001b[1;33m]\u001b[0m\u001b[1;33m[\u001b[0m\u001b[1;34m'angle'\u001b[0m\u001b[1;33m]\u001b[0m\u001b[1;33m,\u001b[0m \u001b[0mc\u001b[0m\u001b[1;33m=\u001b[0m\u001b[1;34m'r'\u001b[0m\u001b[1;33m,\u001b[0m \u001b[0mlabel\u001b[0m\u001b[1;33m=\u001b[0m\u001b[1;34m'isotropic plasticity'\u001b[0m\u001b[1;33m)\u001b[0m\u001b[1;33m\u001b[0m\u001b[0m\n\u001b[0m\u001b[0;32m      4\u001b[0m \u001b[0max\u001b[0m\u001b[1;33m.\u001b[0m\u001b[0mscatter\u001b[0m\u001b[1;33m(\u001b[0m\u001b[0mparamsD\u001b[0m\u001b[1;33m[\u001b[0m\u001b[1;36m0\u001b[0m\u001b[1;33m]\u001b[0m\u001b[1;33m[\u001b[0m\u001b[1;34m'a'\u001b[0m\u001b[1;33m]\u001b[0m\u001b[1;33m[\u001b[0m\u001b[1;36m0\u001b[0m\u001b[1;33m]\u001b[0m\u001b[1;33m,\u001b[0m \u001b[1;33m-\u001b[0m\u001b[1;36m1.\u001b[0m\u001b[1;33m*\u001b[0m\u001b[0mdataD\u001b[0m\u001b[1;33m[\u001b[0m\u001b[1;36m0\u001b[0m\u001b[1;33m]\u001b[0m\u001b[1;33m[\u001b[0m\u001b[1;34m'angle'\u001b[0m\u001b[1;33m]\u001b[0m\u001b[1;33m,\u001b[0m \u001b[0mc\u001b[0m\u001b[1;33m=\u001b[0m\u001b[1;34m'b'\u001b[0m\u001b[1;33m,\u001b[0m \u001b[0mlabel\u001b[0m\u001b[1;33m=\u001b[0m\u001b[1;34m'transversely isotropic'\u001b[0m\u001b[1;33m)\u001b[0m\u001b[1;33m\u001b[0m\u001b[0m\n\u001b[0;32m      5\u001b[0m \u001b[1;33m\u001b[0m\u001b[0m\n",
      "\u001b[1;31mIndexError\u001b[0m: list index out of range"
     ]
    },
    {
     "data": {
      "image/png": "[encoded data removed]",
      "text/plain": [
       "<matplotlib.figure.Figure at 0x7f7945e75f50>"
      ]
     },
     "metadata": {},
     "output_type": "display_data"
    }
   ],
   "source": [
    "fig, ax = plt.subplots()\n",
    "\n",
    "ax.scatter(paramsC[0]['a'][0], -1.*dataC[0]['angle'], c='r', label='isotropic plasticity')\n",
    "ax.scatter(paramsD[0]['a'][0], -1.*dataD[0]['angle'], c='b', label='transversely isotropic')\n",
    "\n",
    "ax.plot(np.array([0., 1.]), np.array([45. - (30/2.), 45. - (30/2.)]), c='k', lw=0.5, ls = '-.',label='Coulomb')\n",
    "ax.plot(np.array([0., 1.]), np.array([45., 45.]), c='k', lw=0.5,ls = '--', label='Roscoe')\n",
    "\n",
    "\n",
    "ax.legend(loc=3, prop={'size':8})\n",
    "\n",
    "for i in range(1,len(dataC)):\n",
    "    ax.scatter(paramsC[i]['a'][0], -1.*dataC[i]['angle'], c='r')\n",
    "    ax.scatter(paramsD[i]['a'][0], -1.*dataD[i]['angle'], c='b')\n",
    "    \n",
    "    \n",
    "ax.plot(np.array([0., 1.]), np.array([45. - (30/2.), 45. - (30/2.)]), c='k', lw=0.5, ls = '-.',label='Coulomb')\n",
    "\n",
    "\n",
    "ax.set_ylim((20, 50))\n",
    "ax.set_xlim((0, 1))\n",
    "\n",
    "ax.set_xlabel('dynamic pressure factor $a $')\n",
    "ax.set_ylabel('measured shear band angle')\n",
    "\n",
    "#fig.savefig('alpha.png')"
   ]
  },
  {
   "cell_type": "code",
   "execution_count": 18,
   "metadata": {
    "collapsed": false
   },
   "outputs": [
    {
     "name": "stdout",
     "output_type": "stream",
     "text": [
      "[]\n"
     ]
    },
    {
     "ename": "IndexError",
     "evalue": "index 0 is out of bounds for axis 0 with size 0",
     "output_type": "error",
     "traceback": [
      "\u001b[1;31m\u001b[0m",
      "\u001b[1;31mIndexError\u001b[0mTraceback (most recent call last)",
      "\u001b[1;32m<ipython-input-18-40871c318356>\u001b[0m in \u001b[0;36m<module>\u001b[1;34m()\u001b[0m\n\u001b[0;32m      5\u001b[0m \u001b[1;33m\u001b[0m\u001b[0m\n\u001b[0;32m      6\u001b[0m \u001b[0mcolorMap\u001b[0m \u001b[1;33m=\u001b[0m \u001b[1;33m{\u001b[0m\u001b[1;33m}\u001b[0m\u001b[1;33m\u001b[0m\u001b[0m\n\u001b[1;32m----> 7\u001b[1;33m \u001b[0mcolorMap\u001b[0m\u001b[1;33m[\u001b[0m\u001b[0muniqs\u001b[0m\u001b[1;33m[\u001b[0m\u001b[1;36m0\u001b[0m\u001b[1;33m]\u001b[0m\u001b[1;33m]\u001b[0m \u001b[1;33m=\u001b[0m \u001b[1;34m'r'\u001b[0m\u001b[1;33m\u001b[0m\u001b[0m\n\u001b[0m\u001b[0;32m      8\u001b[0m \u001b[0mcolorMap\u001b[0m\u001b[1;33m[\u001b[0m\u001b[0muniqs\u001b[0m\u001b[1;33m[\u001b[0m\u001b[1;36m1\u001b[0m\u001b[1;33m]\u001b[0m\u001b[1;33m]\u001b[0m \u001b[1;33m=\u001b[0m \u001b[1;34m'b'\u001b[0m\u001b[1;33m\u001b[0m\u001b[0m\n\u001b[0;32m      9\u001b[0m \u001b[0mcolorMap\u001b[0m\u001b[1;33m[\u001b[0m\u001b[0muniqs\u001b[0m\u001b[1;33m[\u001b[0m\u001b[1;36m2\u001b[0m\u001b[1;33m]\u001b[0m\u001b[1;33m]\u001b[0m \u001b[1;33m=\u001b[0m \u001b[1;34m'g'\u001b[0m\u001b[1;33m\u001b[0m\u001b[0m\n",
      "\u001b[1;31mIndexError\u001b[0m: index 0 is out of bounds for axis 0 with size 0"
     ]
    }
   ],
   "source": [
    "col = 'eta1'\n",
    "uniqs = np.unique([float(i[col][0]) for i in paramsG])\n",
    "print(uniqs)\n",
    "\n",
    "\n",
    "colorMap = {}\n",
    "colorMap[uniqs[0]] = 'r'\n",
    "colorMap[uniqs[1]] = 'b'\n",
    "colorMap[uniqs[2]] = 'g'\n",
    "colorMap[uniqs[3]] = 'k'"
   ]
  },
  {
   "cell_type": "code",
   "execution_count": 19,
   "metadata": {
    "collapsed": false
   },
   "outputs": [
    {
     "name": "stdout",
     "output_type": "stream",
     "text": [
      "[]\n"
     ]
    },
    {
     "ename": "IndexError",
     "evalue": "index 0 is out of bounds for axis 0 with size 0",
     "output_type": "error",
     "traceback": [
      "\u001b[1;31m\u001b[0m",
      "\u001b[1;31mIndexError\u001b[0mTraceback (most recent call last)",
      "\u001b[1;32m<ipython-input-19-5f18092fdf8e>\u001b[0m in \u001b[0;36m<module>\u001b[1;34m()\u001b[0m\n\u001b[0;32m      4\u001b[0m \u001b[1;33m\u001b[0m\u001b[0m\n\u001b[0;32m      5\u001b[0m \u001b[0mmMap\u001b[0m \u001b[1;33m=\u001b[0m \u001b[1;33m{\u001b[0m\u001b[1;33m}\u001b[0m\u001b[1;33m\u001b[0m\u001b[0m\n\u001b[1;32m----> 6\u001b[1;33m \u001b[0mmMap\u001b[0m\u001b[1;33m[\u001b[0m\u001b[0muniqs\u001b[0m\u001b[1;33m[\u001b[0m\u001b[1;36m0\u001b[0m\u001b[1;33m]\u001b[0m\u001b[1;33m]\u001b[0m \u001b[1;33m=\u001b[0m \u001b[1;34m'*'\u001b[0m\u001b[1;33m\u001b[0m\u001b[0m\n\u001b[0m\u001b[0;32m      7\u001b[0m \u001b[0mmMap\u001b[0m\u001b[1;33m[\u001b[0m\u001b[0muniqs\u001b[0m\u001b[1;33m[\u001b[0m\u001b[1;36m1\u001b[0m\u001b[1;33m]\u001b[0m\u001b[1;33m]\u001b[0m \u001b[1;33m=\u001b[0m \u001b[1;34m'o'\u001b[0m\u001b[1;33m\u001b[0m\u001b[0m\n\u001b[0;32m      8\u001b[0m \u001b[0mmMap\u001b[0m\u001b[1;33m[\u001b[0m\u001b[0muniqs\u001b[0m\u001b[1;33m[\u001b[0m\u001b[1;36m2\u001b[0m\u001b[1;33m]\u001b[0m\u001b[1;33m]\u001b[0m \u001b[1;33m=\u001b[0m \u001b[1;34m'+'\u001b[0m\u001b[1;33m\u001b[0m\u001b[0m\n",
      "\u001b[1;31mIndexError\u001b[0m: index 0 is out of bounds for axis 0 with size 0"
     ]
    }
   ],
   "source": [
    "mar = 'U0'\n",
    "uniqs = np.unique([float(i[mar ][0]) for i in paramsG])\n",
    "print(uniqs)\n",
    "\n",
    "mMap = {}\n",
    "mMap[uniqs[0]] = '*'\n",
    "mMap[uniqs[1]] = 'o'\n",
    "mMap[uniqs[2]] = '+'"
   ]
  },
  {
   "cell_type": "code",
   "execution_count": 20,
   "metadata": {
    "collapsed": false
   },
   "outputs": [
    {
     "name": "stdout",
     "output_type": "stream",
     "text": [
      "[]\n"
     ]
    },
    {
     "ename": "IndexError",
     "evalue": "index 0 is out of bounds for axis 0 with size 0",
     "output_type": "error",
     "traceback": [
      "\u001b[1;31m\u001b[0m",
      "\u001b[1;31mIndexError\u001b[0mTraceback (most recent call last)",
      "\u001b[1;32m<ipython-input-20-07095e1d28df>\u001b[0m in \u001b[0;36m<module>\u001b[1;34m()\u001b[0m\n\u001b[0;32m      4\u001b[0m \u001b[1;33m\u001b[0m\u001b[0m\n\u001b[0;32m      5\u001b[0m \u001b[0mlsMap\u001b[0m \u001b[1;33m=\u001b[0m \u001b[1;33m{\u001b[0m\u001b[1;33m}\u001b[0m\u001b[1;33m\u001b[0m\u001b[0m\n\u001b[1;32m----> 6\u001b[1;33m \u001b[0mlsMap\u001b[0m\u001b[1;33m[\u001b[0m\u001b[0muniqs\u001b[0m\u001b[1;33m[\u001b[0m\u001b[1;36m0\u001b[0m\u001b[1;33m]\u001b[0m\u001b[1;33m]\u001b[0m \u001b[1;33m=\u001b[0m \u001b[1;34m'-.'\u001b[0m\u001b[1;33m\u001b[0m\u001b[0m\n\u001b[0m\u001b[0;32m      7\u001b[0m \u001b[0mlsMap\u001b[0m\u001b[1;33m[\u001b[0m\u001b[0muniqs\u001b[0m\u001b[1;33m[\u001b[0m\u001b[1;36m1\u001b[0m\u001b[1;33m]\u001b[0m\u001b[1;33m]\u001b[0m \u001b[1;33m=\u001b[0m \u001b[1;34m'--'\u001b[0m\u001b[1;33m\u001b[0m\u001b[0m\n\u001b[0;32m      8\u001b[0m \u001b[0mlsMap\u001b[0m\u001b[1;33m[\u001b[0m\u001b[0muniqs\u001b[0m\u001b[1;33m[\u001b[0m\u001b[1;36m2\u001b[0m\u001b[1;33m]\u001b[0m\u001b[1;33m]\u001b[0m \u001b[1;33m=\u001b[0m \u001b[1;34m'-'\u001b[0m\u001b[1;33m\u001b[0m\u001b[0m\n",
      "\u001b[1;31mIndexError\u001b[0m: index 0 is out of bounds for axis 0 with size 0"
     ]
    }
   ],
   "source": [
    "lin = 'asthenosphere'\n",
    "uniqs = np.unique([float(i[lin][0]) for i in paramsG])\n",
    "print(uniqs)\n",
    "\n",
    "lsMap = {}\n",
    "lsMap[uniqs[0]] = '-.'\n",
    "lsMap[uniqs[1]] = '--'\n",
    "lsMap[uniqs[2]] = '-'"
   ]
  },
  {
   "cell_type": "code",
   "execution_count": 21,
   "metadata": {
    "collapsed": false
   },
   "outputs": [
    {
     "name": "stdout",
     "output_type": "stream",
     "text": [
      "[]\n"
     ]
    },
    {
     "ename": "IndexError",
     "evalue": "index 0 is out of bounds for axis 0 with size 0",
     "output_type": "error",
     "traceback": [
      "\u001b[1;31m\u001b[0m",
      "\u001b[1;31mIndexError\u001b[0mTraceback (most recent call last)",
      "\u001b[1;32m<ipython-input-21-6d417d672ad3>\u001b[0m in \u001b[0;36m<module>\u001b[1;34m()\u001b[0m\n\u001b[0;32m      4\u001b[0m \u001b[1;33m\u001b[0m\u001b[0m\n\u001b[0;32m      5\u001b[0m \u001b[0msizMap\u001b[0m \u001b[1;33m=\u001b[0m \u001b[1;33m{\u001b[0m\u001b[1;33m}\u001b[0m\u001b[1;33m\u001b[0m\u001b[0m\n\u001b[1;32m----> 6\u001b[1;33m \u001b[0msizMap\u001b[0m\u001b[1;33m[\u001b[0m\u001b[0muniqs\u001b[0m\u001b[1;33m[\u001b[0m\u001b[1;36m0\u001b[0m\u001b[1;33m]\u001b[0m\u001b[1;33m]\u001b[0m \u001b[1;33m=\u001b[0m \u001b[1;36m5.\u001b[0m\u001b[1;33m\u001b[0m\u001b[0m\n\u001b[0m\u001b[0;32m      7\u001b[0m \u001b[0msizMap\u001b[0m\u001b[1;33m[\u001b[0m\u001b[0muniqs\u001b[0m\u001b[1;33m[\u001b[0m\u001b[1;36m1\u001b[0m\u001b[1;33m]\u001b[0m\u001b[1;33m]\u001b[0m \u001b[1;33m=\u001b[0m \u001b[1;36m15\u001b[0m\u001b[1;33m\u001b[0m\u001b[0m\n\u001b[0;32m      8\u001b[0m \u001b[0msizMap\u001b[0m\u001b[1;33m[\u001b[0m\u001b[0muniqs\u001b[0m\u001b[1;33m[\u001b[0m\u001b[1;36m2\u001b[0m\u001b[1;33m]\u001b[0m\u001b[1;33m]\u001b[0m \u001b[1;33m=\u001b[0m \u001b[1;36m35.\u001b[0m\u001b[1;33m\u001b[0m\u001b[0m\n",
      "\u001b[1;31mIndexError\u001b[0m: index 0 is out of bounds for axis 0 with size 0"
     ]
    }
   ],
   "source": [
    "siz = 'asthenosphere'\n",
    "uniqs = np.unique([float(i[siz][0]) for i in paramsG])\n",
    "print(uniqs)\n",
    "\n",
    "sizMap = {}\n",
    "sizMap[uniqs[0]] = 5.\n",
    "sizMap[uniqs[1]] = 15\n",
    "sizMap[uniqs[2]] = 35."
   ]
  },
  {
   "cell_type": "code",
   "execution_count": 22,
   "metadata": {
    "collapsed": false
   },
   "outputs": [
    {
     "name": "stderr",
     "output_type": "stream",
     "text": [
      "/usr/local/lib/python2.7/dist-packages/matplotlib/axes/_axes.py:531: UserWarning: No labelled objects found. Use label='...' kwarg on individual plots.\n",
      "  warnings.warn(\"No labelled objects found. \"\n"
     ]
    },
    {
     "data": {
      "image/png": "[encoded data removed]",
      "text/plain": [
       "<matplotlib.figure.Figure at 0x7f7945cb7fd0>"
      ]
     },
     "metadata": {},
     "output_type": "display_data"
    }
   ],
   "source": [
    "fig, ax = plt.subplots()\n",
    "\n",
    "#ax.plot(np.array([0., 3e10]), np.array([45. - (15/4.), 45. - (15/4.)]), c=colorMap[15.0], lw=0.5, ls = '-.',label='Arthur')\n",
    "#ax.plot(np.array([0., 3e10]), np.array([45. - (30/4.), 45. - (30/4.)]), lw=0.5, ls = '-.',label='Arthur')\n",
    "\n",
    "ax.legend(loc=3, prop={'size':8})\n",
    "\n",
    "for i in range(0,len(dataG)):\n",
    "    #ax.scatter((paramsE[i]['U0'][0] * paramsE[i]['eta1'][0]/paramsE[i]['LS'][0]), dataE[i]['pressmax'] - dataE[i]['pressmin'], c='r')\n",
    "    ax.scatter((paramsG[i]['U0'][0] * paramsG[i]['eta1'][0]/paramsG[i]['depth'][0]), -1.*dataG[i]['angle'], marker=mMap[paramsG[i][mar][0]], c=colorMap[paramsG[i][col][0]], label=str(i+1))\n",
    "\n",
    "ax.set_ylim((25, 50))\n",
    "ax.set_xscale('log')\n",
    "#ax.set_xlim((0, 1e10))\n",
    " \n",
    "\n",
    "ax.legend(loc='best', ncol=4,prop={'size':3})"
   ]
  },
  {
   "cell_type": "code",
   "execution_count": 23,
   "metadata": {
    "collapsed": false
   },
   "outputs": [
    {
     "ename": "NameError",
     "evalue": "name 'i' is not defined",
     "output_type": "error",
     "traceback": [
      "\u001b[1;31m\u001b[0m",
      "\u001b[1;31mNameError\u001b[0mTraceback (most recent call last)",
      "\u001b[1;32m<ipython-input-23-f0da0854e7f0>\u001b[0m in \u001b[0;36m<module>\u001b[1;34m()\u001b[0m\n\u001b[1;32m----> 1\u001b[1;33m \u001b[0msizMap\u001b[0m\u001b[1;33m[\u001b[0m\u001b[0mparamsG\u001b[0m\u001b[1;33m[\u001b[0m\u001b[0mi\u001b[0m\u001b[1;33m]\u001b[0m\u001b[1;33m[\u001b[0m\u001b[0msiz\u001b[0m\u001b[1;33m]\u001b[0m\u001b[1;33m[\u001b[0m\u001b[1;36m0\u001b[0m\u001b[1;33m]\u001b[0m\u001b[1;33m]\u001b[0m\u001b[1;33m\u001b[0m\u001b[0m\n\u001b[0m",
      "\u001b[1;31mNameError\u001b[0m: name 'i' is not defined"
     ]
    }
   ],
   "source": [
    "sizMap[paramsG[i][siz][0]]"
   ]
  },
  {
   "cell_type": "code",
   "execution_count": null,
   "metadata": {
    "collapsed": false
   },
   "outputs": [],
   "source": [
    "fig, ax = plt.subplots()\n",
    "\n",
    "#ax.scatter((paramsG[0]['U0'][1] * paramsG[0]['eta1'][1]), dataG[0]['pressmax']- dataG[0]['pressmin'] , \\\n",
    "#               marker=mMap[paramsG[0][mar][0]], s=sizMap[paramsG[0][siz][0]], \\\n",
    "#               c=colorMap[paramsG[0][col][0]], label=str(paramsG[0][col][1]) )\n",
    "\n",
    "\n",
    "\n",
    "for i in range(0,len(dataG)):\n",
    "    ax.scatter((paramsG[i]['U0'][1] * paramsG[i]['eta1'][1]), dataG[i]['pressmax']- dataG[i]['pressmin'] , \\\n",
    "               marker=mMap[paramsG[i][mar][0]], s=sizMap[paramsG[i][siz][0]], \\\n",
    "               c=colorMap[paramsG[i][col][0]], label=str(i + 1) )\n",
    "\n",
    "#ax.set_ylim((1e-10, 1e-2))\n",
    "#ax.set_xscale('log')\n",
    "#ax.set_yscale('log')\n",
    "\n",
    "\n",
    "ax.legend(loc=2, ncol=4,prop={'size':4})\n",
    "#ax.set_aspect('equal')\n",
    "\n",
    "ax.set_xlabel('$\\eta_1 * U/L$')\n",
    "ax.set_ylabel(\"$\\Delta p'$\")\n",
    "\n",
    "\n",
    "fig.savefig('dyn_pressure.png')"
   ]
  },
  {
   "cell_type": "code",
   "execution_count": 24,
   "metadata": {
    "collapsed": false
   },
   "outputs": [
    {
     "name": "stdout",
     "output_type": "stream",
     "text": [
      "0.1\n",
      "0.001\n",
      "1e-06\n",
      "1e-09\n",
      "1e-11\n"
     ]
    },
    {
     "data": {
      "text/plain": [
       "<matplotlib.text.Text at 0x7f0fca3c5a50>"
      ]
     },
     "execution_count": 24,
     "metadata": {},
     "output_type": "execute_result"
    },
    {
     "data": {
      "image/png": "[encoded data removed]",
      "text/plain": [
       "<matplotlib.figure.Figure at 0x7f0fca6a68d0>"
      ]
     },
     "metadata": {},
     "output_type": "display_data"
    }
   ],
   "source": [
    "fig, ax = plt.subplots()\n",
    "\n",
    "#ax.scatter((paramsG[0]['U0'][1] * paramsG[0]['eta1'][1]), dataG[0]['pressmax']- dataG[0]['pressmin'] , \\\n",
    "#               marker=mMap[paramsG[0][mar][0]], s=sizMap[paramsG[0][siz][0]], \\\n",
    "#               c=colorMap[paramsG[0][col][0]], label=str(paramsG[0][col][1]) )\n",
    "\n",
    "\n",
    "\n",
    "for i in range(0,len(dataH)):\n",
    "    ax.scatter(paramsH[i]['lam'][1], dataH[0]['pressmax']- dataH[0]['pressmin'] )\n",
    "    print(paramsH[i]['lam'][1])\n",
    "\n",
    "ax.set_xlim((1e-12, 1e-1))\n",
    "ax.set_xscale('log')\n",
    "#ax.set_yscale('log')\n",
    "\n",
    "\n",
    "#ax.legend(loc=2, ncol=4,prop={'size':4})\n",
    "#ax.set_aspect('equal')\n",
    "\n",
    "ax.set_xlabel('$\\eta_1 * U/L$')\n",
    "ax.set_ylabel(\"$\\Delta p'$\")\n",
    "\n"
   ]
  },
  {
   "cell_type": "markdown",
   "metadata": {},
   "source": [
    "## Solver stuff"
   ]
  },
  {
   "cell_type": "code",
   "execution_count": 73,
   "metadata": {
    "collapsed": false
   },
   "outputs": [],
   "source": [
    "res1 = []\n",
    "\n",
    "\n",
    "for f in natsort.natsorted(glob.glob('underworld2/results/G/**/solver.csv')):\n",
    "    #print(f)\n",
    "    s = np.loadtxt(f, delimiter=',')\n",
    "    res1.append(s[0])"
   ]
  },
  {
   "cell_type": "code",
   "execution_count": 74,
   "metadata": {
    "collapsed": false
   },
   "outputs": [
    {
     "data": {
      "text/plain": [
       "('-', '*')"
      ]
     },
     "execution_count": 74,
     "metadata": {},
     "output_type": "execute_result"
    }
   ],
   "source": [
    "lsMap[paramsG[i][lin][0]], mMap[paramsG[i][mar][0]],"
   ]
  },
  {
   "cell_type": "code",
   "execution_count": 82,
   "metadata": {
    "collapsed": false
   },
   "outputs": [
    {
     "ename": "IndexError",
     "evalue": "list index out of range",
     "output_type": "error",
     "traceback": [
      "\u001b[1;31m\u001b[0m",
      "\u001b[1;31mIndexError\u001b[0mTraceback (most recent call last)",
      "\u001b[1;32m<ipython-input-82-af7904c1816e>\u001b[0m in \u001b[0;36m<module>\u001b[1;34m()\u001b[0m\n\u001b[0;32m     13\u001b[0m \u001b[1;33m\u001b[0m\u001b[0m\n\u001b[0;32m     14\u001b[0m \u001b[0mcolm\u001b[0m \u001b[1;33m=\u001b[0m \u001b[1;36m23\u001b[0m\u001b[1;33m\u001b[0m\u001b[0m\n\u001b[1;32m---> 15\u001b[1;33m \u001b[0max\u001b[0m\u001b[1;33m.\u001b[0m\u001b[0mplot\u001b[0m\u001b[1;33m(\u001b[0m\u001b[0mrange\u001b[0m\u001b[1;33m(\u001b[0m\u001b[0mlen\u001b[0m\u001b[1;33m(\u001b[0m\u001b[0mres1\u001b[0m\u001b[1;33m[\u001b[0m\u001b[0mcolm\u001b[0m \u001b[1;33m-\u001b[0m\u001b[1;36m1\u001b[0m  \u001b[1;33m]\u001b[0m\u001b[1;33m)\u001b[0m\u001b[1;33m)\u001b[0m\u001b[1;33m,\u001b[0m \u001b[0mres1\u001b[0m\u001b[1;33m[\u001b[0m\u001b[0mcolm\u001b[0m \u001b[1;33m-\u001b[0m\u001b[1;36m1\u001b[0m\u001b[1;33m]\u001b[0m\u001b[1;33m,\u001b[0m\u001b[0mc\u001b[0m\u001b[1;33m=\u001b[0m\u001b[0mcolorMap\u001b[0m\u001b[1;33m[\u001b[0m\u001b[0mparamsG\u001b[0m\u001b[1;33m[\u001b[0m\u001b[0mcolm\u001b[0m \u001b[1;33m-\u001b[0m\u001b[1;36m1\u001b[0m\u001b[1;33m]\u001b[0m\u001b[1;33m[\u001b[0m\u001b[0mcol\u001b[0m\u001b[1;33m]\u001b[0m\u001b[1;33m[\u001b[0m\u001b[1;36m0\u001b[0m\u001b[1;33m]\u001b[0m\u001b[1;33m]\u001b[0m\u001b[1;33m,\u001b[0m\u001b[0mmarker\u001b[0m\u001b[1;33m=\u001b[0m\u001b[0mmMap\u001b[0m\u001b[1;33m[\u001b[0m\u001b[0mparamsG\u001b[0m\u001b[1;33m[\u001b[0m\u001b[0mcolm\u001b[0m \u001b[1;33m-\u001b[0m\u001b[1;36m1\u001b[0m \u001b[1;33m]\u001b[0m\u001b[1;33m[\u001b[0m\u001b[0mmar\u001b[0m\u001b[1;33m]\u001b[0m\u001b[1;33m[\u001b[0m\u001b[1;36m0\u001b[0m\u001b[1;33m]\u001b[0m\u001b[1;33m]\u001b[0m\u001b[1;33m,\u001b[0m \u001b[0mls\u001b[0m\u001b[1;33m=\u001b[0m\u001b[1;34m'-'\u001b[0m\u001b[1;33m,\u001b[0m \u001b[0mlw\u001b[0m\u001b[1;33m=\u001b[0m\u001b[1;36m2.5\u001b[0m\u001b[1;33m,\u001b[0m  \u001b[0mmarkersize\u001b[0m\u001b[1;33m=\u001b[0m\u001b[1;36m4.\u001b[0m\u001b[1;33m,\u001b[0m\u001b[0mlabel\u001b[0m\u001b[1;33m=\u001b[0m\u001b[0mstr\u001b[0m\u001b[1;33m(\u001b[0m\u001b[0mcolm\u001b[0m \u001b[1;33m)\u001b[0m\u001b[1;33m)\u001b[0m\u001b[1;33m\u001b[0m\u001b[0m\n\u001b[0m\u001b[0;32m     16\u001b[0m \u001b[1;33m\u001b[0m\u001b[0m\n\u001b[0;32m     17\u001b[0m \u001b[1;33m\u001b[0m\u001b[0m\n",
      "\u001b[1;31mIndexError\u001b[0m: list index out of range"
     ]
    },
    {
     "data": {
      "image/png": "[encoded data removed]",
      "text/plain": [
       "<matplotlib.figure.Figure at 0x7f0186ae5190>"
      ]
     },
     "metadata": {},
     "output_type": "display_data"
    }
   ],
   "source": [
    "#cmap = mpl.cm.autumn\n",
    "fig, ax = plt.subplots()\n",
    "for i in range(0,len(res1)):\n",
    "    ax.plot(range(len(res1[i])), res1[i],c=colorMap[paramsG[i][col][0]],marker=mMap[paramsG[i][mar][0]], ls=lsMap[paramsG[i][lin][0]], lw=0.5,  markersize=3.,label=str(i+1))\n",
    "    #print( cmap(i))\n",
    "\n",
    "    ax.set_yscale('log')\n",
    "    #ax.set_xscale('log')\n",
    "ax.legend(loc=1, ncol=4,prop={'size':6})\n",
    "\n",
    "ax.set_ylim(1e-8,2.)\n",
    "ax.set_xlim(0,50.)\n",
    "\n",
    "colm = 23\n",
    "ax.plot(range(len(res1[colm -1  ])), res1[colm -1],c=colorMap[paramsG[colm -1][col][0]],marker=mMap[paramsG[colm -1 ][mar][0]], ls='-', lw=2.5,  markersize=4.,label=str(colm ))\n",
    "\n",
    "\n",
    "fig.savefig('big_solve.png')"
   ]
  },
  {
   "cell_type": "code",
   "execution_count": 77,
   "metadata": {
    "collapsed": false
   },
   "outputs": [],
   "source": [
    "resC = []\n",
    "\n",
    "\n",
    "for f in natsort.natsorted(glob.glob('underworld2/results/C/**/solver.csv')):\n",
    "    #print(f)\n",
    "    s = np.loadtxt(f, delimiter=',')\n",
    "    resC.append(s[0])\n",
    "    \n",
    "resD = []\n",
    "\n",
    "\n",
    "for f in natsort.natsorted(glob.glob('underworld2/results/D/**/solver.csv')):\n",
    "    #print(f)\n",
    "    s = np.loadtxt(f, delimiter=',')\n",
    "    resD.append(s[0])"
   ]
  },
  {
   "cell_type": "code",
   "execution_count": 89,
   "metadata": {
    "collapsed": false
   },
   "outputs": [
    {
     "data": {
      "image/png": "[encoded data removed]",
      "text/plain": [
       "<matplotlib.figure.Figure at 0x7f0188f7f910>"
      ]
     },
     "metadata": {},
     "output_type": "display_data"
    }
   ],
   "source": [
    "\n",
    "\n",
    "\n",
    "#cmap = mpl.cm.autumn\n",
    "fig, ax = plt.subplots()\n",
    "\n",
    "ax.plot(range(len(resC[i])), resC[i],c='r', marker='o',markersize=4.0,label='isotropic plasticity')\n",
    "ax.plot(range(len(resC[i])), resD[i],c='b', marker='o',markersize=4.0, label='transversely isotropic')\n",
    "\n",
    "\n",
    "for i in range(0,len(resC)):\n",
    "    ax.plot(range(len(resC[i])), resC[i],c='r', marker='o',markersize=4.0, lw=0.5)\n",
    "    ax.plot(range(len(resC[i])), resD[i],c='b', marker='o',markersize=4.0, lw=0.5)\n",
    "    #print( cmap(i))\n",
    "\n",
    "    ax.set_yscale('log')\n",
    "    #ax.set_xscale('log')\n",
    "ax.legend(loc=4, ncol=4,prop={'size':6})\n",
    "\n",
    "ax.set_ylim(1e-5,2.)\n",
    "ax.set_xlim(0,50.)\n",
    "\n",
    "colm = 23\n",
    "#ax.plot(range(len(res1[colm -1  ])), res1[colm -1],c=colorMap[paramsG[colm -1][col][0]],marker=mMap[paramsG[colm -1 ][mar][0]], ls='-', lw=2.5,  markersize=4.,label=str(colm ))\n",
    "\n",
    "\n",
    "fig.savefig('little_solve.png')"
   ]
  },
  {
   "cell_type": "code",
   "execution_count": null,
   "metadata": {
    "collapsed": true
   },
   "outputs": [],
   "source": []
  }
 ],
 "metadata": {
  "kernelspec": {
   "display_name": "Python 2",
   "language": "python",
   "name": "python2"
  },
  "language_info": {
   "codemirror_mode": {
    "name": "ipython",
    "version": 2
   },
   "file_extension": ".py",
   "mimetype": "text/x-python",
   "name": "python",
   "nbconvert_exporter": "python",
   "pygments_lexer": "ipython2",
   "version": "2.7.9"
  }
 },
 "nbformat": 4,
 "nbformat_minor": 1
}
